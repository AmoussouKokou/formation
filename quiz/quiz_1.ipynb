{
 "cells": [
  {
   "cell_type": "markdown",
   "metadata": {},
   "source": [
    "# **Quiz : Manipulation de données avec python**\n",
    "---"
   ]
  },
  {
   "cell_type": "markdown",
   "metadata": {},
   "source": [
    "**But : Analyser les données du jeu de données iris pour répondre à des QCM**\n",
    "\n",
    "Les données iris ont été collectées afin de quantifier les variations de morphologie des fleurs d'iris d'un certain nombre d'espèces. 4 caractéristiques ont été mesurées à partir de chaque échantillon : la longueur et la largeur des sépales et des pétales, en centimètres.\n",
    "\n",
    "Charger les données avec :"
   ]
  },
  {
   "cell_type": "code",
   "execution_count": 1,
   "metadata": {},
   "outputs": [
    {
     "data": {
      "text/html": [
       "<div>\n",
       "<style scoped>\n",
       "    .dataframe tbody tr th:only-of-type {\n",
       "        vertical-align: middle;\n",
       "    }\n",
       "\n",
       "    .dataframe tbody tr th {\n",
       "        vertical-align: top;\n",
       "    }\n",
       "\n",
       "    .dataframe thead th {\n",
       "        text-align: right;\n",
       "    }\n",
       "</style>\n",
       "<table border=\"1\" class=\"dataframe\">\n",
       "  <thead>\n",
       "    <tr style=\"text-align: right;\">\n",
       "      <th></th>\n",
       "      <th>sepal_length</th>\n",
       "      <th>sepal_width</th>\n",
       "      <th>petal_length</th>\n",
       "      <th>petal_width</th>\n",
       "      <th>species</th>\n",
       "    </tr>\n",
       "  </thead>\n",
       "  <tbody>\n",
       "    <tr>\n",
       "      <th>0</th>\n",
       "      <td>5.1</td>\n",
       "      <td>3.5</td>\n",
       "      <td>1.4</td>\n",
       "      <td>0.2</td>\n",
       "      <td>setosa</td>\n",
       "    </tr>\n",
       "    <tr>\n",
       "      <th>1</th>\n",
       "      <td>4.9</td>\n",
       "      <td>3.0</td>\n",
       "      <td>1.4</td>\n",
       "      <td>0.2</td>\n",
       "      <td>setosa</td>\n",
       "    </tr>\n",
       "    <tr>\n",
       "      <th>2</th>\n",
       "      <td>4.7</td>\n",
       "      <td>3.2</td>\n",
       "      <td>1.3</td>\n",
       "      <td>0.2</td>\n",
       "      <td>setosa</td>\n",
       "    </tr>\n",
       "    <tr>\n",
       "      <th>3</th>\n",
       "      <td>4.6</td>\n",
       "      <td>3.1</td>\n",
       "      <td>1.5</td>\n",
       "      <td>0.2</td>\n",
       "      <td>setosa</td>\n",
       "    </tr>\n",
       "    <tr>\n",
       "      <th>4</th>\n",
       "      <td>5.0</td>\n",
       "      <td>3.6</td>\n",
       "      <td>1.4</td>\n",
       "      <td>0.2</td>\n",
       "      <td>setosa</td>\n",
       "    </tr>\n",
       "  </tbody>\n",
       "</table>\n",
       "</div>"
      ],
      "text/plain": [
       "   sepal_length  sepal_width  petal_length  petal_width species\n",
       "0           5.1          3.5           1.4          0.2  setosa\n",
       "1           4.9          3.0           1.4          0.2  setosa\n",
       "2           4.7          3.2           1.3          0.2  setosa\n",
       "3           4.6          3.1           1.5          0.2  setosa\n",
       "4           5.0          3.6           1.4          0.2  setosa"
      ]
     },
     "execution_count": 1,
     "metadata": {},
     "output_type": "execute_result"
    }
   ],
   "source": [
    "# pip install seaborn      # installer si besoin\n",
    "import seaborn as sns\n",
    "iris = sns.load_dataset('iris')\n",
    "iris.head()     # Afficher les 5 premières lignes"
   ]
  },
  {
   "cell_type": "markdown",
   "metadata": {},
   "source": [
    "📌 **1 - Quelle est la taille du dataset iris ?**\n",
    "\n",
    "*Répondez en cochant la bonne réponse*\n",
    "\n",
    "- [ ] 100\n",
    "- [ ] 120\n",
    "- [ ] 150\n",
    "- [ ] 200\n",
    "\n",
    "📌 **2) Quelle est la moyenne de la colonne \"sepal_length\" (réponse à 2 chiffres après la virgule)**\n",
    "\n",
    "*Répondez en cochant la bonne réponse*\n",
    "\n",
    "- [ ] 5,84\n",
    "- [ ] 5,33\n",
    "- [ ] 0,00\n",
    "- [ ] 9,84\n",
    "\n",
    "📌 **3) Ranger dans l'ordre décroissant (du plus grand au plus petit) les espèces (species) selon la longueur maximale de sépales (sepal_length). L'espèce ayant la plus grande longueur de sépales reste en haut et celle ayant la plus faible en bas**\n",
    "\n",
    "*Répondez en numérotant (1 - 3) chaque option*\n",
    "\n",
    "- [ ] setosa\n",
    "- [ ] versicolor\n",
    "- [ ] virginica\n",
    "\n",
    "📌 **4) Quelle est l'espèce ayant la plus grande longueur moyenne des sépales ?**\n",
    "\n",
    "*Répondez en cochant la bonne réponse*\n",
    "\n",
    "- [ ] virginica\n",
    "- [ ] versicolor\n",
    "- [ ] setosa\n",
    "\n",
    "📌 ***5) Comment trouver les espèces les plus fréquentes dans le dataset**: `iris.species.[?]()`\n",
    "\n",
    "*Répondez en cochant la bonne réponse*\n",
    "\n",
    "- [ ] mod\n",
    "- [ ] freq\n",
    "- [ ] mode\n",
    "- [ ] lot"
   ]
  },
  {
   "cell_type": "markdown",
   "metadata": {},
   "source": []
  }
 ],
 "metadata": {
  "kernelspec": {
   "display_name": "Python 3",
   "language": "python",
   "name": "python3"
  },
  "language_info": {
   "codemirror_mode": {
    "name": "ipython",
    "version": 3
   },
   "file_extension": ".py",
   "mimetype": "text/x-python",
   "name": "python",
   "nbconvert_exporter": "python",
   "pygments_lexer": "ipython3",
   "version": "3.12.9"
  }
 },
 "nbformat": 4,
 "nbformat_minor": 2
}
