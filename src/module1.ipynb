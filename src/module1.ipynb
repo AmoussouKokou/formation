{
 "cells": [
  {
   "cell_type": "markdown",
   "metadata": {},
   "source": [
    "# Module 1 : Introduction à l’analyse de données et à Python"
   ]
  },
  {
   "cell_type": "markdown",
   "metadata": {},
   "source": [
    "✅ Objectif : Comprendre les bases de Python et l’importance de l’analyse de données."
   ]
  },
  {
   "cell_type": "markdown",
   "metadata": {},
   "source": [
    "$Important$ : \n",
    "- **Ne pas hésiter à questionner chatGPT et/ou d'autres plateformes** : personne ne connait tout, et dans le monde d'aujourd'hui, il n'est plus nécessaire de chercher à avoir beaucoup de commandes en tête, je dirais même que ça peut se révéler inutile d'ailleurs. ***!!! Savoir plutôt où et comment trouver rapidement l'information :***. \n",
    "  - ça peut être vos anciens scripts que vous avez créer : donc avoir un système personnel de stockage (Drive, Telegram, Github/Gitlab, etc.)\n",
    "  - ou bien des recherches (chatgpt, internet, plateforme questions-réponses) \n",
    "  \n",
    "   Je questionnerai souvent chatGPT, et on apprendra comment il est très USEFUL ! J'ai mes propres scritps que je vais re-utiliser\n",
    "- **Suivre une formation sans application, ni de projet concrêt est PRESQUE sans intérêt** : Cette formation devra vous donner envie de faire de la programmation ou de l'analyse de données. On aura une forme de projet à la fin que vous allez me rendre par mail (amoussoukokou96@gmail.com), mais vous reporterez certains résultats sur la plateforme talentLMS pour récupérer votre attestation pour ceux qui ont opté pour cela\n"
   ]
  },
  {
   "cell_type": "markdown",
   "metadata": {},
   "source": [
    "### 1 - Présentation de l’analyse de données : enjeux, applications, métiers"
   ]
  },
  {
   "cell_type": "markdown",
   "metadata": {},
   "source": [
    "### 2 - Installation et configuration de l’environnement (Anaconda, Jupyter Notebook, VS Code)"
   ]
  },
  {
   "cell_type": "markdown",
   "metadata": {},
   "source": [
    "### 3 - Bases de Python"
   ]
  },
  {
   "cell_type": "markdown",
   "metadata": {},
   "source": [
    "#### Types de données (entiers, flottants, chaînes de caractères, booléens)"
   ]
  },
  {
   "cell_type": "markdown",
   "metadata": {},
   "source": [
    "#### Variables et affectations"
   ]
  },
  {
   "cell_type": "markdown",
   "metadata": {},
   "source": [
    "#### Opérations de base et expressions"
   ]
  },
  {
   "cell_type": "markdown",
   "metadata": {},
   "source": [
    "#### Structures de contrôle (conditions if/else, boucles for et while)"
   ]
  },
  {
   "cell_type": "markdown",
   "metadata": {},
   "source": [
    "#### Fonctions et modules/library/package"
   ]
  },
  {
   "cell_type": "markdown",
   "metadata": {},
   "source": [
    "#### Notions de POO (Introduction aux classes et objets)"
   ]
  }
 ],
 "metadata": {
  "language_info": {
   "name": "python"
  }
 },
 "nbformat": 4,
 "nbformat_minor": 2
}
