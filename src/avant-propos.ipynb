{
 "cells": [
  {
   "cell_type": "markdown",
   "metadata": {},
   "source": [
    "$Important$ : \n",
    "- **Ne pas hésiter à questionner chatGPT et/ou d'autres plateformes** : personne ne connait tout, et dans le monde d'aujourd'hui, il n'est plus nécessaire de chercher à avoir beaucoup de commandes en tête, je dirais même que ça peut se révéler inutile d'ailleurs. ***!!! Savoir plutôt où et comment trouver rapidement l'information :***. \n",
    "  - ça peut être vos anciens scripts que vous avez créer : donc avoir un système personnel de stockage (Drive, Telegram, Github/Gitlab, etc.)\n",
    "  - ou bien des recherches (chatgpt, internet, plateforme questions-réponses) \n",
    "  \n",
    "   Je questionnerai souvent chatGPT, et on apprendra comment il est très USEFUL ! J'ai mes propres scritps que je vais re-utiliser\n",
    "- **Suivre une formation sans application, ni de projet concrêt est PRESQUE sans intérêt** : Cette formation devra vous donner envie de faire de la programmation ou de l'analyse de données. On aura une forme de projet à la fin que vous allez me rendre par mail (amoussoukokou96@gmail.com), mais vous reporterez certains résultats sur la plateforme talentLMS pour récupérer votre attestation pour ceux qui ont opté pour cela\n",
    "- **Le projet** : Le projet viendra du site de **kaggle**. Kaggle est un site open-source collaboratif proposant des compétitions onéreuses, des datasets, ... Vous pouvez y faire un tour : https://www.kaggle.com/\n",
    "- Pour nos pratiques, nous allons la base simple de scikit-learn `iris`, et éventuellement également les données du projet de prédiction de score de risque de kaggle"
   ]
  }
 ],
 "metadata": {
  "kernelspec": {
   "display_name": "Python 3",
   "language": "python",
   "name": "python3"
  },
  "language_info": {
   "codemirror_mode": {
    "name": "ipython",
    "version": 3
   },
   "file_extension": ".py",
   "mimetype": "text/x-python",
   "name": "python",
   "nbconvert_exporter": "python",
   "pygments_lexer": "ipython3",
   "version": "3.12.9"
  }
 },
 "nbformat": 4,
 "nbformat_minor": 2
}
