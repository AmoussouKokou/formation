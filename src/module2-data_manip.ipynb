{
 "cells": [
  {
   "cell_type": "markdown",
   "metadata": {},
   "source": [
    "# **Module 2 : Manipulation des données avec Pandas**\n",
    "---"
   ]
  },
  {
   "cell_type": "markdown",
   "metadata": {},
   "source": [
    "✅ Objectif : Charger, explorer et manipuler des datasets."
   ]
  },
  {
   "cell_type": "markdown",
   "metadata": {},
   "source": [
    "## **Qu'est ce qu'une table de données ?**"
   ]
  },
  {
   "cell_type": "markdown",
   "metadata": {},
   "source": [
    "Retenons que dans notre cas ici, nous appelerons table de données, un tableau (comme sur excel) avec :\n",
    "- des lignes (**individus statistiques** : personnes, animaux, pays, ...) et \n",
    "- des colonnes (des catégories d'informations appelées **variables**)\n",
    "\n",
    "qui contient des informations sur un sujet données.\n",
    "\n",
    "Imaginons un carnet de contacts :  \n",
    "\n",
    "| ID | Nom      | Prénom  | Téléphone   | Ville    |  \n",
    "|----|---------|--------|------------|---------|  \n",
    "| 1  | Dupont  | Alice  | 0601020304 | Paris   |  \n",
    "| 2  | Martin  | Bob    | 0611223344 | Lyon    |  \n",
    "| 3  | Durand  | Charlie| 0622334455 | Marseille |  \n",
    "\n",
    "Ici :  \n",
    "- Chaque **ligne** représente une **entrée** (un contact).  \n",
    "- Chaque **colonne** est un **type d’information** (Nom, Prénom, Téléphone…).  \n",
    "- L’ID est un numéro unique pour identifier chaque personne.\n",
    "\n",
    "📌 **Pourquoi utiliser une base de données ?**  \n",
    "Lorsqu’on a **beaucoup d’informations** à gérer (ex : une liste de clients, des ventes, des résultats d’examens), il est plus efficace d’utiliser une base de données plutôt que de tout stocker dans un fichier texte ou une feuille Excel.  \n",
    "\n",
    "Une base de données permet de :  \n",
    "✅ **Stocker** des données de manière organisée.  \n",
    "✅ **Rechercher** rapidement des informations.  \n",
    "✅ **Mettre à jour** des données sans tout modifier.  \n",
    "✅ **Éviter les erreurs** et les doublons.  \n",
    "\n",
    "\n",
    "📌 **Types de bases de données**\n",
    "\n",
    "- 1️⃣ **Les bases de données relationnelles (SQL)**  \n",
    "  - Données organisées en **tables** (comme des feuilles Excel).  \n",
    "  - On peut relier plusieurs tables entre elles.  \n",
    "  - Exemples : **MySQL, PostgreSQL, SQLite, SQL Server**.  \n",
    "\n",
    "- 2️⃣ **Les bases de données NoSQL**  \n",
    "  - Moins structurées, adaptées aux **grandes quantités de données**.  \n",
    "  - Exemples : **MongoDB (stockage sous forme de documents JSON), Redis, Cassandra**.  \n",
    "\n",
    "\n",
    "📌 **Comment utiliser une base de données avec Python ?**  \n",
    "Avec Python, on peut manipuler des bases de données relationnelle avec :  \n",
    "  - **Pandas** pour gérer des fichiers CSV et Excel.  "
   ]
  },
  {
   "cell_type": "markdown",
   "metadata": {},
   "source": [
    "# $\\Longrightarrow$ [*Retourner au déroulé*](deroule.ipynb) $\\Longleftarrow$"
   ]
  },
  {
   "cell_type": "markdown",
   "metadata": {},
   "source": [
    "## **1 - Introduction à Pandas : Series et DataFrame**"
   ]
  },
  {
   "cell_type": "markdown",
   "metadata": {},
   "source": [
    "**pandas** est une bibliothèque python qui permet de manipuler des bases de données sous forme de DataFrames (tableaux).\n",
    "\n",
    "On peut :\n",
    "\n",
    "- ✅ **créer une base de données**"
   ]
  },
  {
   "cell_type": "markdown",
   "metadata": {},
   "source": [
    "| nom      | age  | ville   |\n",
    "|---------|--------|------------|\n",
    "| Alice  | 25  | Yaoude |  \n",
    "| Bob  | 30    | Lomé |  \n",
    "| Charlie  | 35    | Ouidah |"
   ]
  },
  {
   "cell_type": "code",
   "execution_count": 14,
   "metadata": {},
   "outputs": [
    {
     "data": {
      "text/html": [
       "<div>\n",
       "<style scoped>\n",
       "    .dataframe tbody tr th:only-of-type {\n",
       "        vertical-align: middle;\n",
       "    }\n",
       "\n",
       "    .dataframe tbody tr th {\n",
       "        vertical-align: top;\n",
       "    }\n",
       "\n",
       "    .dataframe thead th {\n",
       "        text-align: right;\n",
       "    }\n",
       "</style>\n",
       "<table border=\"1\" class=\"dataframe\">\n",
       "  <thead>\n",
       "    <tr style=\"text-align: right;\">\n",
       "      <th></th>\n",
       "      <th>nom</th>\n",
       "      <th>age</th>\n",
       "      <th>ville</th>\n",
       "    </tr>\n",
       "  </thead>\n",
       "  <tbody>\n",
       "    <tr>\n",
       "      <th>0</th>\n",
       "      <td>Alice</td>\n",
       "      <td>25</td>\n",
       "      <td>Paris</td>\n",
       "    </tr>\n",
       "    <tr>\n",
       "      <th>1</th>\n",
       "      <td>Bob</td>\n",
       "      <td>30</td>\n",
       "      <td>Lyon</td>\n",
       "    </tr>\n",
       "    <tr>\n",
       "      <th>2</th>\n",
       "      <td>Charlie</td>\n",
       "      <td>35</td>\n",
       "      <td>Marseille</td>\n",
       "    </tr>\n",
       "  </tbody>\n",
       "</table>\n",
       "</div>"
      ],
      "text/plain": [
       "       nom  age      ville\n",
       "0    Alice   25      Paris\n",
       "1      Bob   30       Lyon\n",
       "2  Charlie   35  Marseille"
      ]
     },
     "execution_count": 14,
     "metadata": {},
     "output_type": "execute_result"
    }
   ],
   "source": [
    "import pandas as pd\n",
    "\n",
    "# Création d'un DataFrame avec un dictionnaire\n",
    "data = {\n",
    "    \"nom\": [\"Alice\", \"Bob\", \"Charlie\"],\n",
    "    \"age\": [25, 30, 35],\n",
    "    \"ville\": [\"Paris\", \"Lyon\", \"Marseille\"]\n",
    "}\n",
    "\n",
    "df = pd.DataFrame(data)\n",
    "df"
   ]
  },
  {
   "cell_type": "markdown",
   "metadata": {},
   "source": [
    "- ✅ **ajouter des index**"
   ]
  },
  {
   "cell_type": "code",
   "execution_count": 15,
   "metadata": {},
   "outputs": [
    {
     "data": {
      "text/html": [
       "<div>\n",
       "<style scoped>\n",
       "    .dataframe tbody tr th:only-of-type {\n",
       "        vertical-align: middle;\n",
       "    }\n",
       "\n",
       "    .dataframe tbody tr th {\n",
       "        vertical-align: top;\n",
       "    }\n",
       "\n",
       "    .dataframe thead th {\n",
       "        text-align: right;\n",
       "    }\n",
       "</style>\n",
       "<table border=\"1\" class=\"dataframe\">\n",
       "  <thead>\n",
       "    <tr style=\"text-align: right;\">\n",
       "      <th></th>\n",
       "      <th>nom</th>\n",
       "      <th>age</th>\n",
       "      <th>ville</th>\n",
       "    </tr>\n",
       "  </thead>\n",
       "  <tbody>\n",
       "    <tr>\n",
       "      <th>nom 1</th>\n",
       "      <td>Alice</td>\n",
       "      <td>25</td>\n",
       "      <td>Paris</td>\n",
       "    </tr>\n",
       "    <tr>\n",
       "      <th>nom 2</th>\n",
       "      <td>Bob</td>\n",
       "      <td>30</td>\n",
       "      <td>Lyon</td>\n",
       "    </tr>\n",
       "    <tr>\n",
       "      <th>nom3</th>\n",
       "      <td>Charlie</td>\n",
       "      <td>35</td>\n",
       "      <td>Marseille</td>\n",
       "    </tr>\n",
       "  </tbody>\n",
       "</table>\n",
       "</div>"
      ],
      "text/plain": [
       "           nom  age      ville\n",
       "nom 1    Alice   25      Paris\n",
       "nom 2      Bob   30       Lyon\n",
       "nom3   Charlie   35  Marseille"
      ]
     },
     "execution_count": 15,
     "metadata": {},
     "output_type": "execute_result"
    }
   ],
   "source": [
    "df.index = [\"nom 1\", \"nom 2\", \"nom3\"]\n",
    "df"
   ]
  },
  {
   "cell_type": "markdown",
   "metadata": {},
   "source": [
    "```python\n",
    "# ou directement \n",
    "pd.DataFrame(data, index=[\"nom 1\", \"nom 2\", \"nom3\"])\n",
    "```"
   ]
  },
  {
   "cell_type": "markdown",
   "metadata": {},
   "source": [
    "- ✅ **créer une série** : une série est une seule variable de la base de données"
   ]
  },
  {
   "cell_type": "code",
   "execution_count": 18,
   "metadata": {},
   "outputs": [
    {
     "name": "stdout",
     "output_type": "stream",
     "text": [
      "0    10\n",
      "1    20\n",
      "2    30\n",
      "3    40\n",
      "4    50\n",
      "dtype: int64 \n",
      " ------\n",
      "a    10\n",
      "b    20\n",
      "c    30\n",
      "d    40\n",
      "e    50\n",
      "dtype: int64 \n",
      " ------\n",
      "Alice      25\n",
      "Bob        30\n",
      "Charlie    35\n",
      "dtype: int64 \n",
      " ------\n",
      "nom 1      Alice\n",
      "nom 2        Bob\n",
      "nom3     Charlie\n",
      "Name: nom, dtype: object \n",
      " ------\n"
     ]
    }
   ],
   "source": [
    "import pandas as pd\n",
    "\n",
    "# Création d'une Série simple\n",
    "serie = pd.Series([10, 20, 30, 40, 50])\n",
    "print(serie, \"\\n ------\")\n",
    "\n",
    "# Avec index\n",
    "serie_indexe = pd.Series([10, 20, 30, 40, 50], index=['a', 'b', 'c', 'd', 'e'])\n",
    "print(serie_indexe, \"\\n ------\")\n",
    "\n",
    "# A partir d'un dictionnaire\n",
    "data = {\"Alice\": 25, \"Bob\": 30, \"Charlie\": 35}\n",
    "serie_dict = pd.Series(data)\n",
    "print(serie_dict, \"\\n ------\")\n",
    "\n",
    "# A partir d'un DataFrame\n",
    "print(df[\"nom\"], \"\\n ------\")"
   ]
  },
  {
   "cell_type": "markdown",
   "metadata": {},
   "source": [
    "- ✅ **Importer un fichier existant**"
   ]
  },
  {
   "cell_type": "markdown",
   "metadata": {},
   "source": [
    "```python\n",
    "df_csv = pd.read_csv(\"fichier.csv\")\n",
    "\n",
    "df_excel = pd.read_excel(\"fichier.xlsx\", sheet_name=\"Feuille1\")\n",
    "\n",
    "print(df_excel.head())\n",
    "```"
   ]
  },
  {
   "cell_type": "markdown",
   "metadata": {},
   "source": [
    "- ✅ **accéder à des éléments d'une base de données ou d'une série**"
   ]
  },
  {
   "cell_type": "code",
   "execution_count": 28,
   "metadata": {},
   "outputs": [
    {
     "name": "stdout",
     "output_type": "stream",
     "text": [
      "nom 1      Alice\n",
      "nom 2        Bob\n",
      "nom3     Charlie\n",
      "Name: nom, dtype: object\n",
      "nom 1      Alice\n",
      "nom 2        Bob\n",
      "nom3     Charlie\n",
      "Name: nom, dtype: object\n",
      "           nom\n",
      "nom 1    Alice\n",
      "nom 2      Bob\n",
      "nom3   Charlie\n"
     ]
    }
   ],
   "source": [
    "# une colonne\n",
    "print(df[\"nom\"])  # Accès simple\n",
    "print(df.nom)     # Accès alternatif\n",
    "print(df[[\"nom\"]])  # Accès sous forme de DataFrame"
   ]
  },
  {
   "cell_type": "markdown",
   "metadata": {},
   "source": [
    "loc permet d'accéder aux éléments à partir des noms d'index ou/et de colonnes\n",
    "\n",
    "iloc à partir des numéros de lignes ou de colonnes"
   ]
  },
  {
   "cell_type": "code",
   "execution_count": 32,
   "metadata": {},
   "outputs": [
    {
     "name": "stdout",
     "output_type": "stream",
     "text": [
      "           nom\n",
      "nom 1    Alice\n",
      "nom 2      Bob\n",
      "nom3   Charlie\n"
     ]
    }
   ],
   "source": [
    "# acceder loc, iloc\n",
    "print(df.loc[:, [\"nom\"]])  # Accès simple\n"
   ]
  },
  {
   "cell_type": "code",
   "execution_count": 34,
   "metadata": {},
   "outputs": [
    {
     "data": {
      "text/html": [
       "<div>\n",
       "<style scoped>\n",
       "    .dataframe tbody tr th:only-of-type {\n",
       "        vertical-align: middle;\n",
       "    }\n",
       "\n",
       "    .dataframe tbody tr th {\n",
       "        vertical-align: top;\n",
       "    }\n",
       "\n",
       "    .dataframe thead th {\n",
       "        text-align: right;\n",
       "    }\n",
       "</style>\n",
       "<table border=\"1\" class=\"dataframe\">\n",
       "  <thead>\n",
       "    <tr style=\"text-align: right;\">\n",
       "      <th></th>\n",
       "      <th>nom</th>\n",
       "      <th>age</th>\n",
       "      <th>ville</th>\n",
       "    </tr>\n",
       "    <tr>\n",
       "      <th>nom</th>\n",
       "      <th></th>\n",
       "      <th></th>\n",
       "      <th></th>\n",
       "    </tr>\n",
       "  </thead>\n",
       "  <tbody>\n",
       "    <tr>\n",
       "      <th>Alice</th>\n",
       "      <td>Alice</td>\n",
       "      <td>25</td>\n",
       "      <td>Paris</td>\n",
       "    </tr>\n",
       "    <tr>\n",
       "      <th>Bob</th>\n",
       "      <td>Bob</td>\n",
       "      <td>30</td>\n",
       "      <td>Lyon</td>\n",
       "    </tr>\n",
       "    <tr>\n",
       "      <th>Charlie</th>\n",
       "      <td>Charlie</td>\n",
       "      <td>35</td>\n",
       "      <td>Marseille</td>\n",
       "    </tr>\n",
       "  </tbody>\n",
       "</table>\n",
       "</div>"
      ],
      "text/plain": [
       "             nom  age      ville\n",
       "nom                             \n",
       "Alice      Alice   25      Paris\n",
       "Bob          Bob   30       Lyon\n",
       "Charlie  Charlie   35  Marseille"
      ]
     },
     "execution_count": 34,
     "metadata": {},
     "output_type": "execute_result"
    }
   ],
   "source": [
    "df.set_index(\"nom\", inplace=True, drop=False)\n",
    "df"
   ]
  },
  {
   "cell_type": "code",
   "execution_count": 39,
   "metadata": {},
   "outputs": [
    {
     "name": "stdout",
     "output_type": "stream",
     "text": [
      "25\n",
      "\n",
      " ----\n",
      "age         25\n",
      "ville    Paris\n",
      "Name: Alice, dtype: object\n",
      "\n",
      " ----\n",
      "nom\n",
      "Alice      25\n",
      "Charlie    35\n",
      "Name: age, dtype: int64\n",
      "\n",
      " ----\n"
     ]
    }
   ],
   "source": [
    "# L'age d'alice\n",
    "print(df.loc[\"Alice\", \"age\"])\n",
    "print(\"\\n ----\")\n",
    "# L'age et la ville d'alice\n",
    "print(df.loc[\"Alice\", [\"age\", \"ville\"]])\n",
    "print(\"\\n ----\")\n",
    "# L'age de Bob et Charlie\n",
    "print(df.loc[[\"Alice\", \"Charlie\"], \"age\"])\n",
    "print(\"\\n ----\")"
   ]
  },
  {
   "cell_type": "markdown",
   "metadata": {},
   "source": [
    "Filtre : tous ceux qui ont au moins 30 ans"
   ]
  },
  {
   "cell_type": "code",
   "execution_count": 43,
   "metadata": {},
   "outputs": [
    {
     "name": "stdout",
     "output_type": "stream",
     "text": [
      "         nom  age  ville\n",
      "nom                     \n",
      "Alice  Alice   25  Paris\n",
      "Bob      Bob   30   Lyon \n",
      " ---\n",
      "         nom  age  ville\n",
      "nom                     \n",
      "Alice  Alice   25  Paris\n",
      "Bob      Bob   30   Lyon\n"
     ]
    }
   ],
   "source": [
    "df_filtre = df[df[\"age\"] <= 30]\n",
    "print(df_filtre, '\\n ---')\n",
    "# ou bien\n",
    "print(df.query(\"age <= 30\"))"
   ]
  },
  {
   "cell_type": "markdown",
   "metadata": {},
   "source": [
    "**Etc...**"
   ]
  },
  {
   "cell_type": "markdown",
   "metadata": {},
   "source": [
    "# $\\Longrightarrow$ [*Retourner au déroulé*](deroule.ipynb) $\\Longleftarrow$"
   ]
  },
  {
   "cell_type": "markdown",
   "metadata": {},
   "source": [
    "## **3 - Exploration des données**"
   ]
  },
  {
   "cell_type": "markdown",
   "metadata": {},
   "source": [
    "#### Aperçu (`head()`, `info()`, `describe()`)"
   ]
  },
  {
   "cell_type": "markdown",
   "metadata": {},
   "source": [
    "#### Sélection et filtrage des colonnes et lignes"
   ]
  },
  {
   "cell_type": "markdown",
   "metadata": {},
   "source": [
    "#### Gestion des valeurs manquantes (`dropna()`, `fillna()`)"
   ]
  },
  {
   "cell_type": "markdown",
   "metadata": {},
   "source": [
    "#### Tri et indexation (`sort_values()`, `set_index()`)"
   ]
  },
  {
   "cell_type": "markdown",
   "metadata": {},
   "source": [
    "## **4 - Manipulations avancées**"
   ]
  },
  {
   "cell_type": "markdown",
   "metadata": {},
   "source": [
    "#### Fusion de datasets (`merge`, `concat`)"
   ]
  },
  {
   "cell_type": "markdown",
   "metadata": {},
   "source": [
    "#### Transformation des données (`apply()`, `map()`, `groupby()`, `melt()`)"
   ]
  }
 ],
 "metadata": {
  "kernelspec": {
   "display_name": "Python 3",
   "language": "python",
   "name": "python3"
  },
  "language_info": {
   "codemirror_mode": {
    "name": "ipython",
    "version": 3
   },
   "file_extension": ".py",
   "mimetype": "text/x-python",
   "name": "python",
   "nbconvert_exporter": "python",
   "pygments_lexer": "ipython3",
   "version": "3.12.9"
  }
 },
 "nbformat": 4,
 "nbformat_minor": 2
}
