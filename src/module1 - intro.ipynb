{
 "cells": [
  {
   "cell_type": "markdown",
   "metadata": {},
   "source": [
    "# **Module 1 : Introduction à Python**\n",
    "---"
   ]
  },
  {
   "cell_type": "markdown",
   "metadata": {},
   "source": [
    "✅ Objectif : Comprendre les bases de Python."
   ]
  },
  {
   "cell_type": "markdown",
   "metadata": {},
   "source": [
    "## **1 - Installation et configuration de l’environnement (Jupyter Notebook, VS Code)**"
   ]
  },
  {
   "cell_type": "markdown",
   "metadata": {},
   "source": [
    "- **Installation de python** : \n",
    "  - télecharger le fichier .exe : https://www.python.org/downloads/windows/\n",
    "  - Cocher la case ✅ \"Add Python to PATH\" (important pour utiliser Python en ligne de commande).\n",
    "  - vérifier : ✅ Ouvre l'invite de commande (cmd) et tape : `python --version`\n",
    "- **Installation de Vs Code** :\n",
    "  - télecharger le fichier .exe : https://code.visualstudio.com/\n",
    "  - Exécuter le fichier .exe et suivre l’installation en cochant \"Add to PATH\".\n",
    "  - Installer l’extension Python dans VS Code : extensions\n",
    "  - Choisir un interpreteur : `Python: Select Interpreter`\n",
    "  - test : `print(\"Hello, Python!\")`\n",
    "- **Installation de Jupyter Notebook** :\n",
    "  - cmd : `pip install notebook`\n",
    "  - vérifier : `jupyter notebook --version`\n",
    "  - lancer : `jupyter notebook`"
   ]
  },
  {
   "cell_type": "markdown",
   "metadata": {},
   "source": [
    "## **2 - Bases de Python**"
   ]
  },
  {
   "cell_type": "markdown",
   "metadata": {},
   "source": [
    "### 📌 **Types de données (entiers, flottants, chaînes de caractères, booléens)**"
   ]
  },
  {
   "cell_type": "markdown",
   "metadata": {},
   "source": [
    "\n",
    "| Type        | Description | Exemple | Fonction de conversion |\n",
    "|------------|------------|---------|------------------------|\n",
    "| **int** (Entier) | Nombre entier (positif ou négatif) | `x = 42` | `int(valeur)`, `int(\"10\")` → `10` |\n",
    "| **float** (Flottant) | Nombre décimal | `x = 3.14` | `float(valeur)`, `float(\"3.14\")` → `3.14` |\n",
    "| **str** (Chaîne de caractères) | Texte entre guillemets | `x = \"Hello\"` | `str(valeur)`,  `str(42)` → `\"42\"` |\n",
    "| **bool** (Booléen) | Valeur vraie ou fausse | `x = True` | `bool(valeur)`,  `bool(1)` → `True` |\n",
    "| **list** (Liste) | Collection **ordonnée** et **modifiable** | `x = [1, 2, 3]` | `list(iterable)` |\n",
    "| **tuple** (Tuple) | Collection **ordonnée** et **non modifiable** | `x = (1, 2, 3)` | `tuple(iterable)` |\n",
    "| **dict** (Dictionnaire) | Collection de **paires clé-valeur** | `x = {\"nom\": \"Alice\", \"âge\": 25}` | `dict(iterable)` |\n",
    "| **set** (Ensemble) | Collection **non ordonnée** et **sans doublons** | `x = {1, 2, 3}` | `set(iterable)` |\n",
    "| **NoneType** | Représente une **absence de valeur** | `x = None` | *Non applicable* |\n",
    "| **ndarray (Matricielle)** | Matrice ou tableau multidimensionnel (via NumPy) | `x = np.array([[1, 2], [3, 4]])` | `np.array(liste)` |\n",
    "\n"
   ]
  },
  {
   "cell_type": "markdown",
   "metadata": {},
   "source": [
    "### 📌 **Variables et affectations**"
   ]
  },
  {
   "attachments": {
    "image.png": {
     "image/png": "[encoded data removed]"
    }
   },
   "cell_type": "markdown",
   "metadata": {},
   "source": [
    "![image.png](attachment:image.png)\n",
    "\n",
    "source : https://waytolearnx.com/2020/06/types-et-variables-python.html"
   ]
  },
  {
   "cell_type": "markdown",
   "metadata": {},
   "source": [
    "pour stocker en mémoire une valeur\n",
    "\n",
    "```python\n",
    "mon_age = 28\n",
    "nom = \"Alice\"\n",
    "pi = 3.14\n",
    "est_majeur = True\n",
    "age_de_mon_pere = mon_age + 30\n",
    "```"
   ]
  },
  {
   "cell_type": "markdown",
   "metadata": {},
   "source": [
    "```python\n",
    "a, b, c = 1, 2, 3  # a = 1, b = 2, c = 3\n",
    "x = y = z = 100  # x, y et z valent 100\n",
    "\n",
    "a = 10\n",
    "b = 20\n",
    "\n",
    "a, b = b, a  # a devient 20 et b devient 10\n",
    "```\n"
   ]
  },
  {
   "cell_type": "markdown",
   "metadata": {},
   "source": [
    "**Les règles de nommage des variables**"
   ]
  },
  {
   "cell_type": "markdown",
   "metadata": {},
   "source": [
    "> - ✅ Un nom de variable doit commencer par une lettre ou un underscore (_).\n",
    "> - ✅ Il ne peut pas contenir d’espace ni de caractères spéciaux (sauf _).\n",
    "> - ✅ Il ne doit pas être un mot-clé réservé de Python (if, for, def, etc.).\n",
    "> ```python\n",
    "> 2variable = 5  #! Erreur ! Ne peut pas commencer par un chiffre\n",
    "> nom-utilisateur = \"Bob\"  # Erreur ! Pas de tiret de 6 \"-\"\n",
    "> if = 10  # Erreur ! \"if\" est un mot-clé réservé\n",
    "> ```"
   ]
  },
  {
   "cell_type": "markdown",
   "metadata": {},
   "source": [
    "### 📌 **Opérations de base et expressions**"
   ]
  },
  {
   "cell_type": "markdown",
   "metadata": {},
   "source": [
    "📌 **Opérations arithmétiques**  \n",
    "\n",
    "| Opérateur | Description              | Exemple          | Résultat |\n",
    "|-----------|--------------------------|------------------|----------|\n",
    "| `+`       | Addition                 | `5 + 3`          | `8`      |\n",
    "| `-`       | Soustraction              | `10 - 4`         | `6`      |\n",
    "| `*`       | Multiplication            | `6 * 2`          | `12`     |\n",
    "| `/`       | Division (résultat flottant) | `7 / 2`      | `3.5`    |\n",
    "| `//`      | Division entière          | `7 // 2`         | `3`      |\n",
    "| `%`       | Modulo (reste de la division) | `10 % 3`     | `1`      |\n",
    "| `**`      | Puissance (exponentiation) | `2 ** 3`       | `8`      |\n",
    "\n",
    "\n",
    "📌 **Opérations de comparaison**  \n",
    "\n",
    "| Opérateur | Description           | Exemple     | Résultat |\n",
    "|-----------|-----------------------|------------|----------|\n",
    "| `==`      | Égal à                | `5 == 5`   | `True`   |\n",
    "| `!=`      | Différent de           | `5 != 3`   | `True`   |\n",
    "| `>`       | Supérieur à            | `7 > 3`    | `True`   |\n",
    "| `<`       | Inférieur à            | `4 < 2`    | `False`  |\n",
    "| `>=`      | Supérieur ou égal à    | `10 >= 10` | `True`   |\n",
    "| `<=`      | Inférieur ou égal à    | `3 <= 5`   | `True`   |\n",
    "\n",
    "\n",
    "📌 **Opérations logiques**  \n",
    "\n",
    "| Opérateur | Description      | Exemple            | Résultat |\n",
    "|-----------|----------------|--------------------|----------|\n",
    "| `and`     | ET logique      | `(5 > 3) and (4 < 6)` | `True`   |\n",
    "| `or`      | OU logique      | `(5 < 3) or (4 < 6)` | `True`   |\n",
    "| `not`     | NON logique     | `not (5 > 3)`     | `False`  |\n",
    "\n",
    "\n",
    "📌 **Opérations sur les chaînes de caractères**  \n",
    "\n",
    "| Opération  | Description | Exemple | Résultat |\n",
    "|------------|------------|---------|----------|\n",
    "| `+`       | Concaténation | `\"Hello \" + \"World\"` | `\"Hello World\"` |\n",
    "| `*`       | Répétition | `\"Python\" * 3` | `\"PythonPythonPython\"` |\n",
    "\n",
    "\n",
    "📌 **Opérations d'affectation combinées**  \n",
    "\n",
    "| Opérateur  | Équivalent à | Exemple  | Résultat |\n",
    "|------------|-------------|----------|----------|\n",
    "| `+=`       | `x = x + 3` | `x += 3` | `x` augmente de 3 |\n",
    "| `-=`       | `x = x - 2` | `x -= 2` | `x` diminue de 2 |\n",
    "| `*=`       | `x = x * 4` | `x *= 4` | `x` est multiplié par 4 |\n",
    "| `/=`       | `x = x / 2` | `x /= 2` | `x` est divisé par 2 |\n",
    "| `//=`      | `x = x // 2` | `x //= 2` | `x` est divisé entier par 2 |\n",
    "| `%=`       | `x = x % 2` | `x %= 2` | `x` devient le reste de la division par 2 |\n",
    "| `**=`      | `x = x ** 2` | `x **= 2` | `x` est élevé au carré |\n",
    "\n",
    "📌 **Opérations de concaténation**\n",
    "\n",
    "`\"a\"+\"b\"` --> `\"ab\"`"
   ]
  },
  {
   "cell_type": "markdown",
   "metadata": {},
   "source": [
    "### 📌 **Structures de contrôle (conditions if/else, boucles for et while)**"
   ]
  },
  {
   "cell_type": "markdown",
   "metadata": {},
   "source": [
    "✅ **Conditions (if/else)**: \n",
    "Les conditions permettent d'exécuter un bloc de code seulement si une condition est vraie.  \n",
    "\n",
    "```python\n",
    "x = 10\n",
    "if x > 5:\n",
    "    print(\"x est supérieur à 5\")\n",
    "elif x == 5:\n",
    "    print(\"x est égal à 5\")\n",
    "else:\n",
    "    print(\"x est inférieur à 5\")\n",
    "```\n",
    "\n",
    "🔄 **Boucle for**: \n",
    "La boucle for est utilisée pour parcourir une séquence (liste, chaîne, range...)\n",
    "```python\n",
    "for i in range(5):  # De 0 à 4\n",
    "    print(i)\n",
    "    \n",
    "fruits = [\"pomme\", \"banane\", \"cerise\"]\n",
    "for fruit in fruits:\n",
    "    print(fruit)\n",
    "```\n",
    "\n",
    "🔁 **Boucle while**: La boucle while répète un bloc tant qu'une condition est vraie\n",
    "```python\n",
    "x = 0\n",
    "while x < 5:\n",
    "    print(x)\n",
    "    x += 1\n",
    "```"
   ]
  },
  {
   "cell_type": "markdown",
   "metadata": {},
   "source": [
    "### 📌 **Fonctions et modules**"
   ]
  },
  {
   "cell_type": "markdown",
   "metadata": {},
   "source": [
    "Python permet d'organiser et de réutiliser du code grâce aux **fonctions** et aux **modules**.\n",
    "\n",
    "#### ✅ **Les Fonctions en Python**\n",
    "Une **fonction** est un bloc de code réutilisable qui effectue une tâche spécifique. Elle peut prendre des **paramètres** et renvoyer une **valeur**. Sans retour, on parle des fois de **procédure**\n",
    "\n",
    "✨ **Déclaration et appel d'une fonction**"
   ]
  },
  {
   "cell_type": "code",
   "execution_count": 2,
   "metadata": {},
   "outputs": [
    {
     "name": "stdout",
     "output_type": "stream",
     "text": [
      "Bonjour, Alice !\n"
     ]
    }
   ],
   "source": [
    "def saluer(nom):\n",
    "    \"\"\"Cette fonction affiche un message de salutation.\"\"\"\n",
    "    print(f\"Bonjour, {nom} !\")\n",
    "\n",
    "# Appel de la fonction\n",
    "saluer(\"Alice\")"
   ]
  },
  {
   "cell_type": "markdown",
   "metadata": {},
   "source": [
    "**🔄 Fonction avec retour de valeur**"
   ]
  },
  {
   "cell_type": "code",
   "execution_count": null,
   "metadata": {},
   "outputs": [
    {
     "name": "stdout",
     "output_type": "stream",
     "text": [
      "16\n"
     ]
    }
   ],
   "source": [
    "def carre(x):\n",
    "    \"\"\"Renvoie le carré du nombre x.\"\"\"\n",
    "    return x ** 2\n",
    "\n",
    "resultat = carre(4)\n",
    "print(resultat)  # Affiche 16"
   ]
  },
  {
   "cell_type": "markdown",
   "metadata": {},
   "source": [
    "**🎯 Paramètres avec valeurs par défaut**"
   ]
  },
  {
   "cell_type": "code",
   "execution_count": 3,
   "metadata": {},
   "outputs": [
    {
     "name": "stdout",
     "output_type": "stream",
     "text": [
      "Bonjour, Inconnu !\n",
      "Bonjour, Bob !\n"
     ]
    }
   ],
   "source": [
    "def saluer(nom=\"Inconnu\"):\n",
    "    print(f\"Bonjour, {nom} !\")\n",
    "\n",
    "saluer()  # Affiche \"Bonjour, Inconnu !\"\n",
    "saluer(\"Bob\")  # Affiche \"Bonjour, Bob !\""
   ]
  },
  {
   "cell_type": "markdown",
   "metadata": {},
   "source": [
    "#### ✅ **Les Modules en Python**"
   ]
  },
  {
   "cell_type": "markdown",
   "metadata": {},
   "source": [
    "Un module est un fichier contenant du code Python (fonctions, classes, variables) que l'on peut importer et utiliser dans un autre programme."
   ]
  },
  {
   "cell_type": "markdown",
   "metadata": {},
   "source": [
    "🛠 **Importation d'un module standard**"
   ]
  },
  {
   "cell_type": "code",
   "execution_count": 4,
   "metadata": {},
   "outputs": [
    {
     "name": "stdout",
     "output_type": "stream",
     "text": [
      "4.0\n"
     ]
    }
   ],
   "source": [
    "import math\n",
    "print(math.sqrt(16))  # Affiche 4.0"
   ]
  },
  {
   "cell_type": "markdown",
   "metadata": {},
   "source": [
    "🎯 **Importation partielle**"
   ]
  },
  {
   "cell_type": "code",
   "execution_count": 5,
   "metadata": {},
   "outputs": [
    {
     "name": "stdout",
     "output_type": "stream",
     "text": [
      "5.0\n"
     ]
    }
   ],
   "source": [
    "from math import sqrt\n",
    "print(sqrt(25))  # Affiche 5.0"
   ]
  },
  {
   "cell_type": "markdown",
   "metadata": {},
   "source": [
    "📝 **Création et importation d’un module personnalisé**"
   ]
  },
  {
   "cell_type": "code",
   "execution_count": 6,
   "metadata": {},
   "outputs": [
    {
     "data": {
      "text/plain": [
       "'d:\\\\Projet\\\\formation\\\\src'"
      ]
     },
     "execution_count": 6,
     "metadata": {},
     "output_type": "execute_result"
    }
   ],
   "source": [
    "import os\n",
    "os.getcwd()"
   ]
  },
  {
   "cell_type": "code",
   "execution_count": 8,
   "metadata": {},
   "outputs": [],
   "source": [
    "os.chdir(\"d:\\\\Projet\\\\formation\\\\src\")"
   ]
  },
  {
   "cell_type": "code",
   "execution_count": null,
   "metadata": {},
   "outputs": [
    {
     "name": "stdout",
     "output_type": "stream",
     "text": [
      "Bonjour, Alice !\n"
     ]
    }
   ],
   "source": [
    "from modules.utils import dire_bonjour\n",
    "print(dire_bonjour(\"Alice\"))"
   ]
  },
  {
   "cell_type": "code",
   "execution_count": null,
   "metadata": {},
   "outputs": [
    {
     "name": "stdout",
     "output_type": "stream",
     "text": [
      "Bonjour, Alice !\n"
     ]
    }
   ],
   "source": [
    "import modules.utils as u\n",
    "print(u.dire_bonjour(\"Alice\"))"
   ]
  },
  {
   "cell_type": "markdown",
   "metadata": {},
   "source": [
    "### 📌 **Notions de POO (Introduction aux classes et objets)**"
   ]
  },
  {
   "cell_type": "markdown",
   "metadata": {},
   "source": [
    "Un objet : une voiture, une personne, un compte bancaire, un animal, etc\n",
    "\n",
    "La **Programmation Orientée Objet (POO)** est un paradigme qui organise le code en objets. Un objet est une instance d’une **classe**, qui regroupe des **attributs** (données) et des **méthodes** (fonctions associées).\n",
    "\n",
    "✅ **Définition d'une classe et création d’un objet**"
   ]
  },
  {
   "cell_type": "code",
   "execution_count": null,
   "metadata": {},
   "outputs": [
    {
     "name": "stdout",
     "output_type": "stream",
     "text": [
      "Bonjour, je m'appelle Alice et j'ai 25 ans.\n"
     ]
    }
   ],
   "source": [
    "class Personne:\n",
    "    \"\"\"Classe représentant une personne.\"\"\"\n",
    "    \n",
    "    def __init__(self, nom, age):\n",
    "        \"\"\"Constructeur qui initialise les attributs nom et âge.\"\"\"\n",
    "        self.nom = nom\n",
    "        self.age = age\n",
    "\n",
    "    def se_presenter(self):\n",
    "        \"\"\"Méthode pour afficher une présentation.\"\"\"\n",
    "        return f\"Bonjour, je m'appelle {self.nom} et j'ai {self.age} ans.\"\n",
    "\n",
    "# Création d'un objet (instance de la classe)\n",
    "personne1 = Personne(\"Alice\", 25)\n",
    "\n",
    "# Appel d'une méthode\n",
    "print(personne1.se_presenter())"
   ]
  },
  {
   "cell_type": "markdown",
   "metadata": {},
   "source": [
    "🎯 **Encapsulation (Attributs privés)**\n",
    "\n",
    "L'**encapsulation** protège les attributs d'une classe en les rendant privés (**préfixe `_` ou `__`**)."
   ]
  },
  {
   "cell_type": "code",
   "execution_count": null,
   "metadata": {},
   "outputs": [
    {
     "name": "stdout",
     "output_type": "stream",
     "text": [
      "Solde de Bob : 1500 €\n"
     ]
    }
   ],
   "source": [
    "class CompteBancaire:\n",
    "    def __init__(self, titulaire, solde):\n",
    "        self.titulaire = titulaire\n",
    "        self.__solde = solde  # Attribut privé\n",
    "\n",
    "    def deposer(self, montant):\n",
    "        \"\"\"Ajoute un montant au solde.\"\"\"\n",
    "        self.__solde += montant\n",
    "\n",
    "    def afficher_solde(self):\n",
    "        \"\"\"Affiche le solde du compte.\"\"\"\n",
    "        return f\"Solde de {self.titulaire} : {self.__solde} €\"\n",
    "\n",
    "# Création d'un compte\n",
    "compte = CompteBancaire(\"Bob\", 1000)\n",
    "compte.deposer(500)\n",
    "print(compte.afficher_solde())"
   ]
  },
  {
   "cell_type": "markdown",
   "metadata": {},
   "source": [
    "🔄 **Héritage (Créer une classe enfant)**\n",
    "\n",
    "L'**héritage** permet de créer une nouvelle classe basée sur une autre.  "
   ]
  },
  {
   "cell_type": "code",
   "execution_count": null,
   "metadata": {},
   "outputs": [
    {
     "name": "stdout",
     "output_type": "stream",
     "text": [
      "Rex dit Ouaf !\n",
      "Mimi dit Miaou !\n"
     ]
    }
   ],
   "source": [
    "class Animal:\n",
    "    def __init__(self, nom):\n",
    "        self.nom = nom\n",
    "\n",
    "    def parler(self):\n",
    "        \"\"\"Méthode générique à surcharger.\"\"\"\n",
    "        return \"Je fais un bruit.\"\n",
    "\n",
    "# Classe Chien qui hérite de Animal\n",
    "class Chien(Animal):\n",
    "    def parler(self):\n",
    "        return \"Ouaf !\"\n",
    "\n",
    "# Classe Chat qui hérite de Animal\n",
    "class Chat(Animal):\n",
    "    def parler(self):\n",
    "        return \"Miaou !\"\n",
    "\n",
    "# Création des objets\n",
    "chien = Chien(\"Rex\")\n",
    "chat = Chat(\"Mimi\")\n",
    "\n",
    "print(chien.nom, \"dit\", chien.parler())\n",
    "print(chat.nom, \"dit\", chat.parler())"
   ]
  },
  {
   "cell_type": "markdown",
   "metadata": {},
   "source": [
    "⚡ **Polymorphisme**\n",
    "\n",
    "Le **polymorphisme** permet d’utiliser une même méthode avec des comportements différents selon la classe. "
   ]
  },
  {
   "cell_type": "code",
   "execution_count": 14,
   "metadata": {},
   "outputs": [
    {
     "name": "stdout",
     "output_type": "stream",
     "text": [
      "Buddy dit Ouaf !\n",
      "Felix dit Miaou !\n"
     ]
    }
   ],
   "source": [
    "animaux = [Chien(\"Buddy\"), Chat(\"Felix\")]\n",
    "\n",
    "for animal in animaux:\n",
    "    print(animal.nom, \"dit\", animal.parler())"
   ]
  },
  {
   "cell_type": "markdown",
   "metadata": {},
   "source": [
    "La **POO** permet d'organiser le code en objets réutilisables, facilitant la maintenance et l'évolutivité. 🚀 "
   ]
  }
 ],
 "metadata": {
  "kernelspec": {
   "display_name": "Python 3",
   "language": "python",
   "name": "python3"
  },
  "language_info": {
   "codemirror_mode": {
    "name": "ipython",
    "version": 3
   },
   "file_extension": ".py",
   "mimetype": "text/x-python",
   "name": "python",
   "nbconvert_exporter": "python",
   "pygments_lexer": "ipython3",
   "version": "3.12.9"
  }
 },
 "nbformat": 4,
 "nbformat_minor": 2
}
